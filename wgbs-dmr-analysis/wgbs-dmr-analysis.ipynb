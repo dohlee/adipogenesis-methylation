{
 "cells": [
  {
   "cell_type": "markdown",
   "id": "compatible-venice",
   "metadata": {},
   "source": [
    "# WGBS DMR analysis\n",
    "\n",
    "This notebook provides codes for WGBS DMR analysis.\n",
    "\n",
    "1. "
   ]
  },
  {
   "cell_type": "code",
   "execution_count": 1,
   "id": "vocational-arrow",
   "metadata": {},
   "outputs": [],
   "source": [
    "import pandas as pd\n",
    "import seaborn as sns\n",
    "%matplotlib inline\n",
    "\n",
    "import glob\n",
    "import os\n",
    "import pickle\n",
    "import random\n",
    "from collections import Counter, defaultdict\n",
    "\n",
    "import matplotlib as mpl\n",
    "import matplotlib.pyplot as plt\n",
    "import numpy as np\n",
    "import pandas as pd\n",
    "# import pybedtools as pb\n",
    "import seaborn as sns\n",
    "import tqdm\n",
    "from scipy import histogram2d\n",
    "from scipy.special import beta as B\n",
    "from scipy.special import comb as C\n",
    "from scipy.special import digamma\n",
    "from scipy.special import gammaln as logG\n",
    "from scipy.special import polygamma\n",
    "from sklearn.mixture import GaussianMixture\n",
    "\n",
    "%matplotlib inline\n",
    "\n",
    "import cycler\n",
    "\n",
    "scale = 1.3\n",
    "plt.rc('axes', linewidth=1.33, labelsize=14)\n",
    "plt.rc('xtick', labelsize=10 * scale)\n",
    "plt.rc('ytick', labelsize=10 * scale)\n",
    "\n",
    "plt.rc('xtick', bottom=True)\n",
    "plt.rc('xtick.major', size=5 * scale, width=1.33)\n",
    "plt.rc('xtick.minor', size=5 * scale, width=1.33)\n",
    "\n",
    "plt.rc('ytick', left=True)\n",
    "plt.rc('ytick.major', size=5 * scale, width=1.33)\n",
    "plt.rc('ytick.minor', size=5 * scale, width=1.33)\n",
    "\n",
    "plt.rc('legend', fontsize=7 * scale)\n",
    "plt.rc('grid', color='grey', linewidth=0.5, alpha=0.33)\n",
    "plt.rc('font', family='FreeSans')\n",
    "\n",
    "color_palette = [\n",
    "    '#005AC8',\n",
    "    '#AA0A3C',\n",
    "    '#0AB45A',\n",
    "    '#FA7850',\n",
    "    '#8214A0',\n",
    "    '#FA78FA',\n",
    "    '#A0FA82',\n",
    "    '#006E82',\n",
    "    '#00A0FA',\n",
    "    '#14D2DC',\n",
    "    '#F0F032',\n",
    "    '#FAE6BE',\n",
    "]\n",
    "\n",
    "mpl.rcParams['axes.prop_cycle'] = cycler.cycler(color=color_palette)"
   ]
  },
  {
   "cell_type": "markdown",
   "id": "ruled-reconstruction",
   "metadata": {},
   "source": [
    "## 1. Compute proportions of DMRs in whole genome/promoters/enhancers (Fig. 1j)\n",
    "\n",
    "Here we show how we computed the proportions of hypo-/hyper- DMRs with respect to the whole genome/promoters/enhancers.\n",
    "\n",
    "### Load DMR intervals"
   ]
  },
  {
   "cell_type": "code",
   "execution_count": 19,
   "id": "vital-static",
   "metadata": {},
   "outputs": [
    {
     "data": {
      "text/plain": [
       "((5451, 3), (934, 3), (589, 3), (82, 3), (1393, 3), (155, 3))"
      ]
     },
     "execution_count": 19,
     "metadata": {},
     "output_type": "execute_result"
    }
   ],
   "source": [
    "hypo_dmrs = pd.read_csv('data/ad_hypo.dmr.final.bed', sep='\\t', names=['chrom', 'start', 'end']) # 5451 entries\n",
    "hyper_dmrs = pd.read_csv('data/ad_hyper.dmr.final.bed', sep='\\t', names=['chrom', 'start', 'end']) # 934 entries\n",
    "\n",
    "promoter_hypo_dmrs = pd.read_csv('data/transcript_promoterup1000_overlapping_hypo_dmr.bed', sep='\\t', names=['chrom', 'start', 'end']) # 589 entries\n",
    "promoter_hyper_dmrs = pd.read_csv('data/transcript_promoterup1000_overlapping_hyper_dmr.bed', sep='\\t', names=['chrom', 'start', 'end']) # 82 entries\n",
    "\n",
    "enhancer_hypo_dmrs = pd.read_csv('data/enhancer_overlapping_hypo_dmr.bed', sep='\\t', names=['chrom', 'start', 'end']) # 1393 entries\n",
    "enhancer_hyper_dmrs = pd.read_csv('data/enhancer_overlapping_hyper_dmr.bed', sep='\\t', names=['chrom', 'start', 'end']) # 155 entries\n",
    "\n",
    "hypo_dmrs.shape, hyper_dmrs.shape, promoter_hypo_dmrs.shape, promoter_hyper_dmrs.shape,\\\n",
    "enhancer_hypo_dmrs.shape, enhancer_hyper_dmrs.shape"
   ]
  },
  {
   "cell_type": "markdown",
   "id": "thrown-builder",
   "metadata": {},
   "source": [
    "### Load promoters and enhancers"
   ]
  },
  {
   "cell_type": "code",
   "execution_count": 20,
   "id": "ruled-punishment",
   "metadata": {},
   "outputs": [
    {
     "data": {
      "text/plain": [
       "(54715, (1377, 4), (150, 4))"
      ]
     },
     "execution_count": 20,
     "metadata": {},
     "output_type": "execute_result"
    }
   ],
   "source": [
    "promoters = pd.read_csv('data/promoters.mm10.transcript.bed', sep='\\t', names=['chrom', 'start', 'end', 'gene'])\n",
    "promoters = promoters[promoters.chrom != 'chrM']\n",
    "\n",
    "hypo_dmr_overlapping_promoters = pd.read_csv('data/hypo_dmr_overlapping_transcript_promoter_up1000.bed', sep='\\t', names=['chrom', 'start', 'end', 'gene']) # 1377 entries\n",
    "hyper_dmr_overlapping_promoters = pd.read_csv('data/hyper_dmr_overlapping_transcript_promoter_up1000.bed', sep='\\t', names=['chrom', 'start', 'end', 'gene']) # 150 entries\n",
    "\n",
    "len(set(promoters.gene)), hypo_dmr_overlapping_promoters.shape, hyper_dmr_overlapping_promoters.shape"
   ]
  },
  {
   "cell_type": "code",
   "execution_count": 25,
   "id": "eligible-growth",
   "metadata": {},
   "outputs": [],
   "source": [
    "enhancers = pd.read_csv('data/enhancers.bed', sep='\\t', names=['chrom', 'start', 'end', 'name'])"
   ]
  },
  {
   "cell_type": "code",
   "execution_count": 90,
   "id": "adjacent-console",
   "metadata": {},
   "outputs": [],
   "source": [
    "enhancers = pd.concat([\n",
    "    pd.read_csv('result/bed/cebp_enhancer.bed', sep='\\t', names=['chrom', 'start', 'end', 'name', 'score', 'strand']),\n",
    "    pd.read_csv('result/bed/non_cebp_enhancer.bed', sep='\\t', names=['chrom', 'start', 'end', 'name', 'score', 'strand']),\n",
    "])"
   ]
  },
  {
   "cell_type": "code",
   "execution_count": 91,
   "id": "familiar-management",
   "metadata": {},
   "outputs": [
    {
     "data": {
      "text/plain": [
       "137995"
      ]
     },
     "execution_count": 91,
     "metadata": {},
     "output_type": "execute_result"
    }
   ],
   "source": [
    "len(enhancers)"
   ]
  },
  {
   "cell_type": "code",
   "execution_count": 92,
   "id": "bacterial-marker",
   "metadata": {},
   "outputs": [],
   "source": [
    "enhancers.sort_values(['chrom', 'start', 'end'])[['chrom', 'start', 'end', 'name']].to_csv('result/bed/enhancers.bed', sep='\\t', index=False, header=False)"
   ]
  },
  {
   "cell_type": "code",
   "execution_count": 99,
   "id": "positive-egyptian",
   "metadata": {},
   "outputs": [
    {
     "data": {
      "text/plain": [
       "array(['chr1', 'chr10', 'chr11', 'chr12', 'chr13', 'chr14', 'chr15',\n",
       "       'chr16', 'chr17', 'chr18', 'chr19', 'chr2', 'chr3', 'chr4', 'chr5',\n",
       "       'chr6', 'chr7', 'chr8', 'chr9', 'chrX'], dtype=object)"
      ]
     },
     "execution_count": 99,
     "metadata": {},
     "output_type": "execute_result"
    }
   ],
   "source": [
    "enhancers.chrom.unique()"
   ]
  },
  {
   "cell_type": "markdown",
   "id": "identical-parking",
   "metadata": {},
   "source": [
    "### Compute the size of whole mm10 genome\n",
    "\n",
    "We simply read mm10 fasta file and counted the number of whole bases.\n",
    "\n",
    "As the size of `mm10.fa` is too large for GitHub, we just assign the precomputed value to `n_bases_total` and commented out the procedures of computing it."
   ]
  },
  {
   "cell_type": "code",
   "execution_count": 27,
   "id": "ordered-conjunction",
   "metadata": {},
   "outputs": [],
   "source": [
    "# from Bio import SeqIO\n",
    "# mm10 = SeqIO.to_dict(SeqIO.parse('data/mm10.fa', 'fasta'))\n",
    "# chromosomes = [f'chr{i}' for i in range(1, 20)] + ['chrX', 'chrY']\n",
    "# n_bases_total = 0\n",
    "# for chrom in chromosomes:\n",
    "#     n_bases_total += len(mm10[chrom].seq)\n",
    "\n",
    "n_bases_total = 2725521370"
   ]
  },
  {
   "cell_type": "markdown",
   "id": "allied-confirmation",
   "metadata": {},
   "source": [
    "### Compute the proportion of hypo-/hyper-DMRs with respect to the whole genome"
   ]
  },
  {
   "cell_type": "code",
   "execution_count": 34,
   "id": "adapted-radio",
   "metadata": {},
   "outputs": [
    {
     "name": "stdout",
     "output_type": "stream",
     "text": [
      "% Hypo-DMR w.r.t Whole genome = 0.48%\n",
      "% Hyper-DMR w.r.t Whole genome = 0.04%\n"
     ]
    }
   ],
   "source": [
    "n_bases_hypo_dmr = (hypo_dmrs.end - hypo_dmrs.start).sum()\n",
    "n_bases_hyper_dmr = (hyper_dmrs.end - hyper_dmrs.start).sum()\n",
    "\n",
    "print(f'% Hypo-DMR w.r.t Whole genome = {n_bases_hypo_dmr / n_bases_total:.2%}')\n",
    "print(f'% Hyper-DMR w.r.t Whole genome = {n_bases_hyper_dmr / n_bases_total:.2%}')"
   ]
  },
  {
   "cell_type": "markdown",
   "id": "decimal-isaac",
   "metadata": {},
   "source": [
    "### Compute the total size of promoters in bp and compute the proportion of hypo-/hyper-DMRs w.r.t to it"
   ]
  },
  {
   "cell_type": "code",
   "execution_count": 50,
   "id": "perceived-conflict",
   "metadata": {},
   "outputs": [
    {
     "name": "stdout",
     "output_type": "stream",
     "text": [
      "% Hypo-DMR w.r.t promoter = 3.87%\n",
      "% Hyper-DMR w.r.t promoter = 0.11%\n"
     ]
    }
   ],
   "source": [
    "n_bases_total_promoter = (promoters.end - promoters.start).sum()\n",
    "\n",
    "print(f'% Hypo-DMR w.r.t promoter = {(promoter_hypo_dmrs.end - promoter_hypo_dmrs.start).sum() / n_bases_total_promoter:.2%}')\n",
    "print(f'% Hyper-DMR w.r.t promoter = {(promoter_hyper_dmrs.end - promoter_hyper_dmrs.start).sum() / n_bases_total_promoter:.2%}')"
   ]
  },
  {
   "cell_type": "markdown",
   "id": "confident-bachelor",
   "metadata": {},
   "source": [
    "### Compute the total size of enhancers in bp and compute the proportion of hypo-/hyper-DMRs w.r.t to it"
   ]
  },
  {
   "cell_type": "code",
   "execution_count": 51,
   "id": "revised-event",
   "metadata": {},
   "outputs": [
    {
     "name": "stdout",
     "output_type": "stream",
     "text": [
      "% Hypo-DMR w.r.t enhancer = 0.28%\n",
      "% Hyper-DMR w.r.t enhancer = 0.10%\n"
     ]
    }
   ],
   "source": [
    "n_bases_total_enhancer = (enhancers.end - enhancers.start).sum()\n",
    "\n",
    "print(f'% Hypo-DMR w.r.t enhancer = {(enhancer_hypo_dmrs.end - enhancer_hypo_dmrs.start).sum() / n_bases_total_enhancer:.2%}')\n",
    "print(f'% Hyper-DMR w.r.t enhancer = {(enhancer_hyper_dmrs.end - enhancer_hyper_dmrs.start).sum() / n_bases_total_enhancer:.2%}')"
   ]
  },
  {
   "cell_type": "code",
   "execution_count": null,
   "id": "appropriate-worse",
   "metadata": {},
   "outputs": [],
   "source": []
  },
  {
   "cell_type": "markdown",
   "id": "accepting-copyright",
   "metadata": {},
   "source": [
    "### Other"
   ]
  },
  {
   "cell_type": "code",
   "execution_count": 93,
   "id": "precious-capability",
   "metadata": {},
   "outputs": [],
   "source": [
    "!cat 'result/bed/enhancers.bed' 'result/bed/promoters.mm10.transcript.bed' |\\\n",
    "    bedtools sort -i stdin |\\\n",
    "    bedtools merge -i stdin > result/DMR-ADDITIONAL/promoter_enhancer.bed"
   ]
  },
  {
   "cell_type": "code",
   "execution_count": 94,
   "id": "bibliographic-mortality",
   "metadata": {},
   "outputs": [],
   "source": [
    "pe = pd.read_csv('result/DMR-ADDITIONAL/promoter_enhancer.bed', sep='\\t', names=['chrom', 'start', 'end', 'name'])"
   ]
  },
  {
   "cell_type": "code",
   "execution_count": 97,
   "id": "atmospheric-listing",
   "metadata": {},
   "outputs": [
    {
     "data": {
      "text/plain": [
       "2725521370"
      ]
     },
     "execution_count": 97,
     "metadata": {},
     "output_type": "execute_result"
    }
   ],
   "source": [
    "n_bases_total"
   ]
  },
  {
   "cell_type": "code",
   "execution_count": 98,
   "id": "specialized-chess",
   "metadata": {},
   "outputs": [
    {
     "data": {
      "text/plain": [
       "2345886037"
      ]
     },
     "execution_count": 98,
     "metadata": {},
     "output_type": "execute_result"
    }
   ],
   "source": [
    "n_bases_total - (pe.end - pe.start).sum()"
   ]
  },
  {
   "cell_type": "code",
   "execution_count": 105,
   "id": "congressional-heritage",
   "metadata": {},
   "outputs": [],
   "source": [
    "!bedtools intersect -a 'result/dmr/ad_hypo.dmr.final.bed' -b 'result/bed/promoters.mm10.transcript.bed' 'result/bed/enhancers.bed' -v > 'result/DMR-ADDITIONAL/ad_hypo.dmr.other_region.bed'\n",
    "!bedtools intersect -a 'result/dmr/ad_hyper.dmr.final.bed' -b 'result/bed/promoters.mm10.transcript.bed' 'result/bed/enhancers.bed' -v > 'result/DMR-ADDITIONAL/ad_hyper.dmr.other_region.bed'"
   ]
  },
  {
   "cell_type": "code",
   "execution_count": 108,
   "id": "western-mountain",
   "metadata": {},
   "outputs": [],
   "source": [
    "hypo_other = pd.read_csv('result/DMR-ADDITIONAL/ad_hypo.dmr.other_region.bed', sep='\\t', names=['chrom', 'start', 'end'])\n",
    "hyper_other = pd.read_csv('result/DMR-ADDITIONAL/ad_hyper.dmr.other_region.bed', sep='\\t', names=['chrom', 'start', 'end'])"
   ]
  },
  {
   "cell_type": "code",
   "execution_count": 111,
   "id": "entertaining-sunrise",
   "metadata": {},
   "outputs": [
    {
     "data": {
      "text/plain": [
       "(1888585, 738510)"
      ]
     },
     "execution_count": 111,
     "metadata": {},
     "output_type": "execute_result"
    }
   ],
   "source": [
    "(hypo_other.end - hypo_other.start).sum(), (hyper_other.end - hyper_other.start).sum()"
   ]
  },
  {
   "cell_type": "code",
   "execution_count": 110,
   "id": "confidential-graduation",
   "metadata": {},
   "outputs": [
    {
     "data": {
      "text/plain": [
       "(696, 3)"
      ]
     },
     "execution_count": 110,
     "metadata": {},
     "output_type": "execute_result"
    }
   ],
   "source": [
    "hyper_other.shape"
   ]
  }
 ],
 "metadata": {
  "kernelspec": {
   "display_name": "analysis",
   "language": "python",
   "name": "dnmt3a"
  },
  "language_info": {
   "codemirror_mode": {
    "name": "ipython",
    "version": 3
   },
   "file_extension": ".py",
   "mimetype": "text/x-python",
   "name": "python",
   "nbconvert_exporter": "python",
   "pygments_lexer": "ipython3",
   "version": "3.7.6"
  }
 },
 "nbformat": 4,
 "nbformat_minor": 5
}
